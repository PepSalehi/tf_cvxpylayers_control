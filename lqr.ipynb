{
 "cells": [
  {
   "cell_type": "markdown",
   "metadata": {},
   "source": [
    "# LQR\n",
    "\n",
    "In this example, we show that a convex optimization layer can recover a solution to the linear quadratic regulator (LQR) control problem."
   ]
  },
  {
   "cell_type": "code",
   "execution_count": 1,
   "metadata": {},
   "outputs": [],
   "source": [
    "import cvxpy as cp\n",
    "import numpy as np\n",
    "import tensorflow as tf\n",
    "from cvxpylayers.tensorflow import CvxpyLayer\n",
    "\n",
    "from scipy.linalg import sqrtm\n",
    "from scipy.linalg import solve_discrete_are"
   ]
  },
  {
   "cell_type": "code",
   "execution_count": 2,
   "metadata": {},
   "outputs": [],
   "source": [
    "np.random.seed(0)\n",
    "\n",
    "# generate problem data\n",
    "n, m = 4, 2\n",
    "noise = np.sqrt(0.25)\n",
    "Q0 = np.eye(n)\n",
    "R0 = np.eye(m)\n",
    "A = np.random.randn(n, n)\n",
    "A /= np.max(np.abs(np.linalg.eig(A)[0]))\n",
    "B = np.random.randn(n, m)\n",
    "W = noise**2 * np.eye(n)"
   ]
  },
  {
   "cell_type": "code",
   "execution_count": 3,
   "metadata": {},
   "outputs": [
    {
     "name": "stdout",
     "output_type": "stream",
     "text": [
      "1.8031165790342367\n"
     ]
    }
   ],
   "source": [
    "# compute lqr solution\n",
    "P = cp.Variable((n, n), PSD=True)\n",
    "R0cvxpy = cp.Parameter((m, m), PSD=True)\n",
    "\n",
    "objective = cp.trace(P@W)\n",
    "constraints = [\n",
    "    cp.bmat([[R0cvxpy + B.T@P@B, B.T@P@A],\n",
    "             [A.T@P@B, Q0 + A.T@P@A - P]]) >> 0,\n",
    "    P >> 0]\n",
    "R0cvxpy.value = R0\n",
    "result = cp.Problem(cp.Maximize(objective), constraints).solve()\n",
    "P_lqr = P.value\n",
    "print(result)"
   ]
  },
  {
   "cell_type": "code",
   "execution_count": 4,
   "metadata": {},
   "outputs": [
    {
     "data": {
      "text/plain": [
       "array([[1.85426156, 0.12235637, 0.51550081, 1.05324043],\n",
       "       [0.12235637, 1.18209044, 0.09639788, 0.44752023],\n",
       "       [0.51550081, 0.09639788, 1.31473547, 0.6759572 ],\n",
       "       [1.05324043, 0.44752023, 0.6759572 , 2.86137885]])"
      ]
     },
     "execution_count": 4,
     "metadata": {},
     "output_type": "execute_result"
    }
   ],
   "source": [
    "P_lqr"
   ]
  },
  {
   "cell_type": "code",
   "execution_count": 5,
   "metadata": {},
   "outputs": [],
   "source": [
    "# set up policy\n",
    "x = cp.Parameter((n, 1))\n",
    "P_sqrt = cp.Parameter((n, n))\n",
    "\n",
    "u = cp.Variable((m, 1))\n",
    "xnext = cp.Variable((n, 1))\n",
    "\n",
    "objective = cp.quad_form(u, R0) + cp.sum_squares(P_sqrt @ xnext)\n",
    "constraints = [xnext == A @ x + B @ u]\n",
    "prob = cp.Problem(cp.Minimize(objective), constraints)\n",
    "policy = CvxpyLayer(prob, [x, P_sqrt], [u])"
   ]
  },
  {
   "cell_type": "code",
   "execution_count": 6,
   "metadata": {},
   "outputs": [],
   "source": [
    "# initialize parameters\n",
    "Qt, Rt, At, Bt = [tf.constant(t, dtype=tf.float64) for t in [Q0, R0, A, B]]\n",
    "P_sqrt = tf.Variable(tf.eye(n, dtype=tf.float64))"
   ]
  },
  {
   "cell_type": "code",
   "execution_count": 7,
   "metadata": {},
   "outputs": [],
   "source": [
    "def repeat(tensor, batch_size):\n",
    "    return tf.tile(tf.reshape(tensor, (1,) + tensor.shape),\n",
    "                   tf.constant([batch_size] + [1 for _ in tensor.shape]))"
   ]
  },
  {
   "cell_type": "code",
   "execution_count": 8,
   "metadata": {},
   "outputs": [],
   "source": [
    "def loss(time_horizon, batch_size, P_sqrt, seed=None):\n",
    "    \n",
    "    if seed is not None:\n",
    "        tf.random.set_seed(seed)\n",
    "        \n",
    "    x_batch = tf.random.normal((batch_size, n, 1), dtype=tf.float64)\n",
    "    P_sqrt_batch = repeat(P_sqrt, batch_size)\n",
    "    Qt_batch = repeat(Qt, batch_size)\n",
    "    Rt_batch = repeat(Rt, batch_size)\n",
    "    At_batch = repeat(At, batch_size)\n",
    "    Bt_batch = repeat(Bt, batch_size)\n",
    "    \n",
    "    loss = 0.0\n",
    "    for _ in range(time_horizon):\n",
    "        u_batch, = policy(x_batch, P_sqrt_batch)\n",
    "        state_cost = tf.matmul(tf.transpose(tf.matmul(Qt_batch, x_batch), (0, 2, 1)),\n",
    "                               x_batch)\n",
    "        control_cost = tf.matmul(tf.transpose(tf.matmul(Rt_batch, u_batch), (0, 2, 1)),\n",
    "                                 u_batch)\n",
    "        cost_batch = tf.squeeze(state_cost) + tf.squeeze(control_cost)\n",
    "        loss += tf.math.reduce_sum(cost_batch) / (time_horizon * batch_size)\n",
    "        x_batch = tf.matmul(At_batch, x_batch) + \\\n",
    "            tf.matmul(Bt_batch, u_batch) + \\\n",
    "            noise * tf.random.normal((batch_size, n, 1), dtype=tf.float64)\n",
    "    return loss"
   ]
  },
  {
   "cell_type": "code",
   "execution_count": 9,
   "metadata": {},
   "outputs": [],
   "source": [
    "Kt = np.linalg.solve(R0 + B.T @ P_lqr @ B, -B.T @ P_lqr @ A)\n",
    "loss_lqr = loss(100, 6, tf.constant(sqrtm(P_lqr)), seed=0)"
   ]
  },
  {
   "cell_type": "code",
   "execution_count": 10,
   "metadata": {},
   "outputs": [
    {
     "name": "stdout",
     "output_type": "stream",
     "text": [
      "it: 001, loss: 0.284, dist: 0.291, dist_P: 2.905\n",
      "it: 002, loss: 0.199, dist: 0.184, dist_P: 2.771\n",
      "it: 003, loss: 0.093, dist: 0.127, dist_P: 2.746\n",
      "it: 004, loss: 0.056, dist: 0.100, dist_P: 2.745\n",
      "it: 005, loss: 0.031, dist: 0.066, dist_P: 2.754\n",
      "it: 006, loss: 0.022, dist: 0.055, dist_P: 2.758\n",
      "it: 007, loss: 0.015, dist: 0.045, dist_P: 2.775\n",
      "it: 008, loss: 0.010, dist: 0.039, dist_P: 2.793\n",
      "it: 009, loss: 0.008, dist: 0.037, dist_P: 2.794\n",
      "it: 010, loss: 0.007, dist: 0.035, dist_P: 2.788\n",
      "it: 011, loss: 0.007, dist: 0.038, dist_P: 2.799\n",
      "it: 012, loss: 0.006, dist: 0.031, dist_P: 2.768\n",
      "it: 013, loss: 0.005, dist: 0.039, dist_P: 2.788\n",
      "it: 014, loss: 0.005, dist: 0.053, dist_P: 2.822\n",
      "it: 015, loss: 0.004, dist: 0.048, dist_P: 2.802\n",
      "it: 016, loss: 0.004, dist: 0.023, dist_P: 2.730\n",
      "it: 017, loss: 0.005, dist: 0.021, dist_P: 2.708\n",
      "it: 018, loss: 0.004, dist: 0.018, dist_P: 2.704\n",
      "it: 019, loss: 0.003, dist: 0.031, dist_P: 2.743\n",
      "it: 020, loss: 0.003, dist: 0.044, dist_P: 2.775\n",
      "it: 021, loss: 0.003, dist: 0.038, dist_P: 2.743\n",
      "it: 022, loss: 0.002, dist: 0.032, dist_P: 2.736\n",
      "it: 023, loss: 0.003, dist: 0.017, dist_P: 2.692\n",
      "it: 024, loss: 0.002, dist: 0.024, dist_P: 2.710\n",
      "it: 025, loss: 0.002, dist: 0.028, dist_P: 2.736\n",
      "it: 026, loss: 0.011, dist: 0.061, dist_P: 2.594\n",
      "it: 027, loss: 0.006, dist: 0.032, dist_P: 2.638\n",
      "it: 028, loss: 0.005, dist: 0.026, dist_P: 2.647\n",
      "it: 029, loss: 0.006, dist: 0.029, dist_P: 2.641\n",
      "it: 030, loss: 0.005, dist: 0.024, dist_P: 2.650\n",
      "it: 031, loss: 0.005, dist: 0.024, dist_P: 2.652\n",
      "it: 032, loss: 0.005, dist: 0.021, dist_P: 2.655\n",
      "it: 033, loss: 0.004, dist: 0.019, dist_P: 2.659\n",
      "it: 034, loss: 0.004, dist: 0.018, dist_P: 2.663\n",
      "it: 035, loss: 0.004, dist: 0.017, dist_P: 2.662\n",
      "it: 036, loss: 0.004, dist: 0.016, dist_P: 2.669\n",
      "it: 037, loss: 0.003, dist: 0.016, dist_P: 2.677\n",
      "it: 038, loss: 0.003, dist: 0.016, dist_P: 2.675\n",
      "it: 039, loss: 0.003, dist: 0.016, dist_P: 2.685\n",
      "it: 040, loss: 0.002, dist: 0.019, dist_P: 2.698\n",
      "it: 041, loss: 0.002, dist: 0.020, dist_P: 2.699\n",
      "it: 042, loss: 0.002, dist: 0.016, dist_P: 2.688\n",
      "it: 043, loss: 0.002, dist: 0.016, dist_P: 2.685\n",
      "it: 044, loss: 0.002, dist: 0.018, dist_P: 2.692\n",
      "it: 045, loss: 0.002, dist: 0.018, dist_P: 2.692\n",
      "it: 046, loss: 0.002, dist: 0.020, dist_P: 2.700\n",
      "it: 047, loss: 0.002, dist: 0.022, dist_P: 2.704\n",
      "it: 048, loss: 0.002, dist: 0.022, dist_P: 2.703\n",
      "it: 049, loss: 0.002, dist: 0.017, dist_P: 2.691\n",
      "it: 050, loss: 0.002, dist: 0.016, dist_P: 2.686\n"
     ]
    }
   ],
   "source": [
    "losses = []\n",
    "opt = tf.keras.optimizers.SGD(learning_rate=0.5)\n",
    "test_loss = None\n",
    "for k in range(50):\n",
    "    test_loss = float(loss(100, 6, P_sqrt, seed=0))\n",
    "    K_np = tf.linalg.solve(Rt + tf.transpose(Bt) @ tf.transpose(P_sqrt) @ P_sqrt @ Bt,\n",
    "                           -tf.transpose(Bt) @ tf.transpose(P_sqrt) @ P_sqrt @ At).numpy()\n",
    "    dist = np.linalg.norm(K_np - Kt)\n",
    "    P = (tf.transpose(P_sqrt) @ P_sqrt).numpy()\n",
    "    dist_P = np.linalg.norm(P_lqr - P)\n",
    "    losses.append(test_loss)\n",
    "    print(\"it: %03d, loss: %3.3f, dist: %3.3f, dist_P: %3.3f\" % (k+1, test_loss - loss_lqr, dist, dist_P))\n",
    "    \n",
    "    with tf.GradientTape() as tape:\n",
    "        l = loss(100, 6, P_sqrt, seed=k+1)\n",
    "    grad, = tape.gradient(l, [P_sqrt])\n",
    "    opt.apply_gradients([(grad, P_sqrt)])\n",
    "    if k == 25:\n",
    "        opt = tf.keras.optimizers.SGD(learning_rate=0.1)"
   ]
  },
  {
   "cell_type": "code",
   "execution_count": 12,
   "metadata": {},
   "outputs": [
    {
     "data": {
      "image/png": "[encoded data removed]",
      "text/plain": [
       "<Figure size 288x177.994 with 1 Axes>"
      ]
     },
     "metadata": {
      "needs_background": "light"
     },
     "output_type": "display_data"
    }
   ],
   "source": [
    "import matplotlib.pyplot as plt\n",
    "from utils import latexify\n",
    "import matplotlib\n",
    "\n",
    "latexify(fig_width=4)\n",
    "fig, ax = plt.subplots()\n",
    "plt.xticks([0, 10, 20, 30, 40, 50])\n",
    "plt.semilogy(losses, color='k', label='COCP')\n",
    "plt.gca().yaxis.set_minor_formatter(matplotlib.ticker.ScalarFormatter())\n",
    "plt.axhline(float(loss_lqr), linestyle='--', color='k', label='LQR')\n",
    "plt.legend()\n",
    "plt.ylabel(\"cost\")\n",
    "plt.xlabel(\"$k$\")\n",
    "plt.subplots_adjust(left=.15, bottom=.2)\n",
    "plt.savefig(\"lqr.pdf\")\n",
    "plt.show()"
   ]
  }
 ],
 "metadata": {
  "@webio": {
   "lastCommId": null,
   "lastKernelId": null
  },
  "kernelspec": {
   "display_name": "Python 3",
   "language": "python",
   "name": "python3"
  },
  "language_info": {
   "codemirror_mode": {
    "name": "ipython",
    "version": 3
   },
   "file_extension": ".py",
   "mimetype": "text/x-python",
   "name": "python",
   "nbconvert_exporter": "python",
   "pygments_lexer": "ipython3",
   "version": "3.7.4"
  }
 },
 "nbformat": 4,
 "nbformat_minor": 2
}
